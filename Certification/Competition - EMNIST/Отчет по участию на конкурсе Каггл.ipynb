{
 "cells": [
  {
   "cell_type": "markdown",
   "id": "bCwobCQimPU2",
   "metadata": {
    "id": "bCwobCQimPU2"
   },
   "source": [
    "https://www.kaggle.com/c/jds3"
   ]
  },
  {
   "cell_type": "code",
   "execution_count": null,
   "id": "625b9213",
   "metadata": {
    "id": "625b9213",
    "outputId": "27c5083e-7c5a-4ac4-be8c-3eaa8bae68aa"
   },
   "outputs": [
    {
     "name": "stdout",
     "output_type": "stream",
     "text": [
      "Requirement already satisfied: scikit-learn==1.0 in c:\\users\\o.suslova\\anaconda3\\lib\\site-packages (1.0)\n",
      "Requirement already satisfied: scipy>=1.1.0 in c:\\users\\o.suslova\\anaconda3\\lib\\site-packages (from scikit-learn==1.0) (1.6.2)\n",
      "Requirement already satisfied: joblib>=0.11 in c:\\users\\o.suslova\\anaconda3\\lib\\site-packages (from scikit-learn==1.0) (1.0.1)\n",
      "Requirement already satisfied: threadpoolctl>=2.0.0 in c:\\users\\o.suslova\\anaconda3\\lib\\site-packages (from scikit-learn==1.0) (2.1.0)\n",
      "Requirement already satisfied: numpy>=1.14.6 in c:\\users\\o.suslova\\anaconda3\\lib\\site-packages (from scikit-learn==1.0) (1.20.1)\n"
     ]
    }
   ],
   "source": [
    "!pip install --no-cache-dir scikit-learn==1.0"
   ]
  },
  {
   "cell_type": "markdown",
   "id": "f61269e0",
   "metadata": {
    "id": "f61269e0"
   },
   "source": [
    "Импортируем библиотеки"
   ]
  },
  {
   "cell_type": "code",
   "execution_count": null,
   "id": "8a0772a8",
   "metadata": {
    "id": "8a0772a8"
   },
   "outputs": [],
   "source": [
    "import pandas as pd\n",
    "import matplotlib.pyplot as plt\n",
    "import numpy as np\n",
    "\n",
    "import datetime\n",
    "import random\n",
    "import time\n",
    "import copy\n",
    "import string"
   ]
  },
  {
   "cell_type": "code",
   "execution_count": null,
   "id": "d044b4f1",
   "metadata": {
    "id": "d044b4f1"
   },
   "outputs": [],
   "source": [
    "from sklearn import metrics\n",
    "from sklearn.decomposition import PCA, KernelPCA\n",
    "from sklearn.cluster import KMeans\n",
    "from sklearn.model_selection import cross_val_score, KFold, train_test_split\n",
    "from sklearn.discriminant_analysis import LinearDiscriminantAnalysis\n",
    "from sklearn.linear_model import LogisticRegression, RidgeClassifier, Lasso, SGDClassifier\n",
    "from sklearn.naive_bayes import BernoulliNB\n",
    "from sklearn.tree import DecisionTreeClassifier\n",
    "from sklearn.svm import LinearSVC, SVC\n",
    "from sklearn.neighbors import KNeighborsClassifier\n",
    "from sklearn.ensemble import RandomForestClassifier, GradientBoostingClassifier, AdaBoostClassifier, VotingClassifier\n",
    "\n",
    "from sklearn.model_selection._search_successive_halving import HalvingGridSearchCV, HalvingRandomSearchCV"
   ]
  },
  {
   "cell_type": "code",
   "execution_count": null,
   "id": "a508a3fb",
   "metadata": {
    "id": "a508a3fb"
   },
   "outputs": [],
   "source": [
    "from xgboost import XGBClassifier"
   ]
  },
  {
   "cell_type": "markdown",
   "id": "de9ace3b",
   "metadata": {
    "id": "de9ace3b"
   },
   "source": [
    "Отключаем ошибки"
   ]
  },
  {
   "cell_type": "code",
   "execution_count": null,
   "id": "b16d1354",
   "metadata": {
    "id": "b16d1354"
   },
   "outputs": [],
   "source": [
    "import warnings\n",
    "warnings.filterwarnings(\"ignore\")"
   ]
  },
  {
   "cell_type": "markdown",
   "id": "5c62fc18",
   "metadata": {
    "id": "5c62fc18"
   },
   "source": [
    "Устанавливаем начальные параметры"
   ]
  },
  {
   "cell_type": "code",
   "execution_count": null,
   "id": "30cfbeac",
   "metadata": {
    "id": "30cfbeac"
   },
   "outputs": [],
   "source": [
    "rnd = 247"
   ]
  },
  {
   "cell_type": "code",
   "execution_count": null,
   "id": "a1a30b43",
   "metadata": {
    "id": "a1a30b43"
   },
   "outputs": [],
   "source": [
    "n_cmp = 53\n",
    "folds = 3\n",
    "metric = 'accuracy'\n",
    "pr = 0.9"
   ]
  },
  {
   "cell_type": "markdown",
   "id": "981b5e4a",
   "metadata": {
    "id": "981b5e4a"
   },
   "source": [
    "Читаем и обрабатываем исходные данные"
   ]
  },
  {
   "cell_type": "code",
   "execution_count": null,
   "id": "affdce72",
   "metadata": {
    "id": "affdce72"
   },
   "outputs": [],
   "source": [
    "data = pd.read_csv(\"emnist-letters-train.csv\").fillna(0).values"
   ]
  },
  {
   "cell_type": "code",
   "execution_count": null,
   "id": "e3668528",
   "metadata": {
    "id": "e3668528",
    "outputId": "8195809d-7217-44dc-f566-40eb04ef1b99"
   },
   "outputs": [
    {
     "data": {
      "text/plain": [
       "(88799, 785)"
      ]
     },
     "execution_count": 9,
     "metadata": {},
     "output_type": "execute_result"
    }
   ],
   "source": [
    "data.shape"
   ]
  },
  {
   "cell_type": "code",
   "execution_count": null,
   "id": "8402db1f",
   "metadata": {
    "id": "8402db1f"
   },
   "outputs": [],
   "source": [
    "X = data[:,1:]\n",
    "y = data[:,0]"
   ]
  },
  {
   "cell_type": "code",
   "execution_count": null,
   "id": "bdf60bf2",
   "metadata": {
    "id": "bdf60bf2",
    "outputId": "9c6f5dca-0f75-4e22-df03-030bab7e92e2"
   },
   "outputs": [
    {
     "name": "stdout",
     "output_type": "stream",
     "text": [
      "d\n"
     ]
    },
    {
     "data": {
      "text/plain": [
       "<matplotlib.image.AxesImage at 0x1f77be340d0>"
      ]
     },
     "execution_count": 11,
     "metadata": {},
     "output_type": "execute_result"
    },
    {
     "data": {
      "image/png": "[encoded data removed]",
      "text/plain": [
       "<Figure size 432x288 with 1 Axes>"
      ]
     },
     "metadata": {
      "needs_background": "light"
     },
     "output_type": "display_data"
    }
   ],
   "source": [
    "alphabet = list(string.ascii_lowercase)\n",
    "idx =np.random.randint(0,88000)\n",
    "print(alphabet[y[idx]-1])\n",
    "plt.imshow(X[idx].reshape(28,28).T)"
   ]
  },
  {
   "cell_type": "markdown",
   "id": "a2003795",
   "metadata": {
    "id": "a2003795"
   },
   "source": [
    "Проведем кластеризацию данных"
   ]
  },
  {
   "cell_type": "code",
   "execution_count": null,
   "id": "17c0e016",
   "metadata": {
    "id": "17c0e016"
   },
   "outputs": [],
   "source": [
    "kmeans = KMeans(n_clusters=len(np.unique(y)), random_state=rnd).fit(X)\n",
    "X = np.append(X, kmeans.labels_[:, np.newaxis], axis=1)"
   ]
  },
  {
   "cell_type": "markdown",
   "id": "2292ec96",
   "metadata": {
    "id": "2292ec96"
   },
   "source": [
    "Снизим размерность данных"
   ]
  },
  {
   "cell_type": "code",
   "execution_count": null,
   "id": "dcfbf91b",
   "metadata": {
    "id": "dcfbf91b"
   },
   "outputs": [],
   "source": [
    "X_ch, _, _, _ = train_test_split(X, y, test_size=0.85, random_state=rnd)\n",
    "pca = KernelPCA(n_components=n_cmp, random_state=rnd, kernel=\"cosine\", n_jobs=-1)\n",
    "pca.fit(X_ch)\n",
    "X2 = pca.transform(X)"
   ]
  },
  {
   "cell_type": "markdown",
   "id": "e90bf4c8",
   "metadata": {
    "id": "e90bf4c8"
   },
   "source": [
    "Разобьем обработанные данные на тренировочную и тестовую выборки"
   ]
  },
  {
   "cell_type": "code",
   "execution_count": null,
   "id": "ec1f0632",
   "metadata": {
    "id": "ec1f0632"
   },
   "outputs": [],
   "source": [
    "X_train, X_test, y_train, y_test = train_test_split(X2, y, test_size=0.20, random_state=rnd)"
   ]
  },
  {
   "cell_type": "code",
   "execution_count": null,
   "id": "3203b253",
   "metadata": {
    "id": "3203b253"
   },
   "outputs": [],
   "source": [
    "# Был эксперимент по стандартизации данных. Однако по факту после преобразования результаты \n",
    "# не улучшились, а временные затраты существенно возросли, поэтому пропустим.\n",
    "# from sklearn.preprocessing import StandardScaler\n",
    "# sc = StandardScaler()\n",
    "# X_train_scaled = sc.fit_transform(X_train)"
   ]
  },
  {
   "cell_type": "markdown",
   "id": "8690393b",
   "metadata": {
    "id": "8690393b"
   },
   "source": [
    "Создадим первоначальный список моделей и обучим их на кросс-валидации"
   ]
  },
  {
   "cell_type": "code",
   "execution_count": null,
   "id": "da8f3c51",
   "metadata": {
    "id": "da8f3c51"
   },
   "outputs": [],
   "source": [
    "models = {}\n",
    "models['LogisticRegression'] = LogisticRegression(multi_class='multinomial', random_state=rnd)\n",
    "models['BernoulliNB'] = BernoulliNB()\n",
    "models['DecisionTreeClassifier'] = DecisionTreeClassifier(random_state=rnd)\n",
    "models['LinearSVC'] = LinearSVC(random_state=rnd)\n",
    "models['SVC'] = SVC(random_state=rnd)\n",
    "models['KNeighborsClassifier'] = KNeighborsClassifier()\n",
    "models['RandomForestClassifier'] = RandomForestClassifier(random_state=rnd)\n",
    "models['SGDClassifier'] = SGDClassifier(random_state=rnd)\n",
    "models['RidgeClassifier'] = RidgeClassifier(random_state=rnd)\n",
    "models['GradientBoostingClassifier'] = GradientBoostingClassifier(random_state=rnd) # Считается несколько часов, поэтому пропустим, полученный скор - 0.7497, 0.7502\n",
    "models['AdaBoostClassifier'] = AdaBoostClassifier(random_state=rnd)\n",
    "models['XGBClassifier'] = XGBClassifier(random_state=rnd)"
   ]
  },
  {
   "cell_type": "code",
   "execution_count": null,
   "id": "cda6dbba",
   "metadata": {
    "id": "cda6dbba"
   },
   "outputs": [],
   "source": [
    "k_fold = KFold(n_splits=folds)"
   ]
  },
  {
   "cell_type": "code",
   "execution_count": null,
   "id": "6f111723",
   "metadata": {
    "id": "6f111723"
   },
   "outputs": [],
   "source": [
    "def CallModel(name, model):\n",
    "    start_time = time.time()\n",
    "    k_fold = KFold(n_splits=folds)\n",
    "    res = cross_val_score(model, X_train, y_train, cv=k_fold, scoring=metric, n_jobs=-1)\n",
    "    results.append([name, model, res.mean(), time.time() - start_time])\n",
    "    print(results[-1])"
   ]
  },
  {
   "cell_type": "code",
   "execution_count": null,
   "id": "d3a4a46f",
   "metadata": {
    "id": "d3a4a46f",
    "outputId": "99fa0cf2-4d3d-4664-c785-3485d08e8730"
   },
   "outputs": [
    {
     "name": "stdout",
     "output_type": "stream",
     "text": [
      "['LogisticRegression', LogisticRegression(multi_class='multinomial', random_state=247), 0.6829769306316958, 7.53308629989624]\n",
      "['BernoulliNB', BernoulliNB(), 0.4960374214008764, 0.7488369941711426]\n",
      "['DecisionTreeClassifier', DecisionTreeClassifier(random_state=247), 0.6052590652463562, 5.766408443450928]\n",
      "['LinearSVC', LinearSVC(random_state=247), 0.6680133490103559, 5.698237180709839]\n",
      "['SVC', SVC(random_state=247), 0.902377569392844, 128.90127396583557]\n",
      "['KNeighborsClassifier', KNeighborsClassifier(), 0.8735483244314249, 23.341524124145508]\n",
      "['RandomForestClassifier', RandomForestClassifier(random_state=247), 0.836878376975417, 38.90308713912964]\n",
      "['SGDClassifier', SGDClassifier(random_state=247), 0.6251074305729142, 2.0463178157806396]\n",
      "['RidgeClassifier', RidgeClassifier(random_state=247), 0.5682230946977004, 0.33173441886901855]\n",
      "['GradientBoostingClassifier', GradientBoostingClassifier(random_state=247), 0.7524599208434966, 1970.6136853694916]\n",
      "['AdaBoostClassifier', AdaBoostClassifier(random_state=247), 0.40529847240817407, 20.76871395111084]\n",
      "['XGBClassifier', XGBClassifier(base_score=None, booster=None, colsample_bylevel=None,\n",
      "              colsample_bynode=None, colsample_bytree=None, gamma=None,\n",
      "              gpu_id=None, importance_type='gain', interaction_constraints=None,\n",
      "              learning_rate=None, max_delta_step=None, max_depth=None,\n",
      "              min_child_weight=None, missing=nan, monotone_constraints=None,\n",
      "              n_estimators=100, n_jobs=None, num_parallel_tree=None,\n",
      "              random_state=247, reg_alpha=None, reg_lambda=None,\n",
      "              scale_pos_weight=None, subsample=None, tree_method=None,\n",
      "              validate_parameters=None, verbosity=None), 0.8425090991552175, 693.8888845443726]\n"
     ]
    }
   ],
   "source": [
    "results = list()\n",
    "for name in models:\n",
    "    CallModel(name, models[name])"
   ]
  },
  {
   "cell_type": "markdown",
   "id": "b13e7395",
   "metadata": {
    "id": "b13e7395"
   },
   "source": [
    "Видим, что наилучшие результаты у SVC, поэтому далее будем продолжать работать именно с данной моделью"
   ]
  },
  {
   "cell_type": "code",
   "execution_count": null,
   "id": "abc1bed4",
   "metadata": {
    "id": "abc1bed4",
    "outputId": "cb38dd3b-1f50-4104-92d4-ba2c664449cb"
   },
   "outputs": [
    {
     "name": "stdout",
     "output_type": "stream",
     "text": [
      "['SVC - linear', SVC(kernel='linear', random_state=247), 0.7729275836079332, 92.0339584350586]\n",
      "['SVC - poly', SVC(kernel='poly', random_state=247), 0.907374838492997, 97.55663633346558]\n",
      "['SVC - rbf', SVC(random_state=247), 0.902377569392844, 126.53667163848877]\n",
      "['SVC - sigmoid', SVC(kernel='sigmoid', random_state=247), 0.5215163204586191, 114.73875045776367]\n"
     ]
    }
   ],
   "source": [
    "for kernel in (\"linear\", \"poly\", \"rbf\", \"sigmoid\"):\n",
    "    CallModel(f'SVC - {kernel}', SVC(kernel=kernel, random_state=rnd))"
   ]
  },
  {
   "cell_type": "markdown",
   "id": "a8f18b12",
   "metadata": {
    "id": "a8f18b12"
   },
   "source": [
    "Поскольку лучшие результаты получились у полиномиальной модели и модели с использованием радиально-базисных функций, далее протестируем их"
   ]
  },
  {
   "cell_type": "code",
   "execution_count": null,
   "id": "b82398d0",
   "metadata": {
    "id": "b82398d0",
    "outputId": "213ab384-8dc4-4f69-e59c-a277b4a964ac"
   },
   "outputs": [
    {
     "name": "stdout",
     "output_type": "stream",
     "text": [
      "['SVC - poly - degree-2', SVC(degree=2, kernel='poly', random_state=247), 0.9009276748717551, 78.22455596923828]\n",
      "['SVC - poly - degree-3', SVC(kernel='poly', random_state=247), 0.907374838492997, 96.18978571891785]\n",
      "['SVC - poly - degree-4', SVC(degree=4, kernel='poly', random_state=247), 0.9038415678363654, 125.90988540649414]\n",
      "['SVC - poly - degree-5', SVC(degree=5, kernel='poly', random_state=247), 0.8918340732408577, 149.62631273269653]\n"
     ]
    }
   ],
   "source": [
    "for degree in range(2, 6):\n",
    "    CallModel(f'SVC - poly - degree-{degree}', SVC(kernel='poly', degree=degree, random_state=rnd))"
   ]
  },
  {
   "cell_type": "code",
   "execution_count": null,
   "id": "26313d84",
   "metadata": {
    "id": "26313d84",
    "outputId": "48543392-3fd2-487b-d9db-213f53385f9b"
   },
   "outputs": [
    {
     "name": "stdout",
     "output_type": "stream",
     "text": [
      "['SVC - rbf - C-3', SVC(C=3, random_state=247), 0.9123298695407684, 120.95994091033936]\n",
      "['SVC - rbf - C-4', SVC(C=4, random_state=247), 0.9131603964759134, 121.87320184707642]\n",
      "['SVC - rbf - C-5', SVC(C=5, random_state=247), 0.9133293165837827, 121.65688443183899]\n",
      "['SVC - rbf - C-6', SVC(C=6, random_state=247), 0.9132448577187983, 121.55361199378967]\n"
     ]
    }
   ],
   "source": [
    "for C in np.arange(3, 7):\n",
    "    CallModel(f'SVC - rbf - C-{C}', SVC(kernel='rbf', C=C, random_state=rnd))"
   ]
  },
  {
   "cell_type": "markdown",
   "id": "0601b251",
   "metadata": {
    "id": "0601b251"
   },
   "source": [
    "Посмотрим полученный результат после обучения моделей"
   ]
  },
  {
   "cell_type": "code",
   "execution_count": null,
   "id": "30b61d70",
   "metadata": {
    "id": "30b61d70",
    "outputId": "eb4f5099-cdc4-4953-908c-a25af270dc19"
   },
   "outputs": [
    {
     "data": {
      "text/html": [
       "<div>\n",
       "<style scoped>\n",
       "    .dataframe tbody tr th:only-of-type {\n",
       "        vertical-align: middle;\n",
       "    }\n",
       "\n",
       "    .dataframe tbody tr th {\n",
       "        vertical-align: top;\n",
       "    }\n",
       "\n",
       "    .dataframe thead th {\n",
       "        text-align: right;\n",
       "    }\n",
       "</style>\n",
       "<table border=\"1\" class=\"dataframe\">\n",
       "  <thead>\n",
       "    <tr style=\"text-align: right;\">\n",
       "      <th></th>\n",
       "      <th>Name</th>\n",
       "      <th>Model</th>\n",
       "      <th>Score</th>\n",
       "      <th>Time</th>\n",
       "    </tr>\n",
       "  </thead>\n",
       "  <tbody>\n",
       "    <tr>\n",
       "      <th>22</th>\n",
       "      <td>SVC - rbf - C-5</td>\n",
       "      <td>SVC(C=5, random_state=247)</td>\n",
       "      <td>0.913329</td>\n",
       "      <td>121.656884</td>\n",
       "    </tr>\n",
       "    <tr>\n",
       "      <th>23</th>\n",
       "      <td>SVC - rbf - C-6</td>\n",
       "      <td>SVC(C=6, random_state=247)</td>\n",
       "      <td>0.913245</td>\n",
       "      <td>121.553612</td>\n",
       "    </tr>\n",
       "    <tr>\n",
       "      <th>21</th>\n",
       "      <td>SVC - rbf - C-4</td>\n",
       "      <td>SVC(C=4, random_state=247)</td>\n",
       "      <td>0.913160</td>\n",
       "      <td>121.873202</td>\n",
       "    </tr>\n",
       "    <tr>\n",
       "      <th>20</th>\n",
       "      <td>SVC - rbf - C-3</td>\n",
       "      <td>SVC(C=3, random_state=247)</td>\n",
       "      <td>0.912330</td>\n",
       "      <td>120.959941</td>\n",
       "    </tr>\n",
       "    <tr>\n",
       "      <th>17</th>\n",
       "      <td>SVC - poly - degree-3</td>\n",
       "      <td>SVC(kernel='poly', random_state=247)</td>\n",
       "      <td>0.907375</td>\n",
       "      <td>96.189786</td>\n",
       "    </tr>\n",
       "    <tr>\n",
       "      <th>13</th>\n",
       "      <td>SVC - poly</td>\n",
       "      <td>SVC(kernel='poly', random_state=247)</td>\n",
       "      <td>0.907375</td>\n",
       "      <td>97.556636</td>\n",
       "    </tr>\n",
       "    <tr>\n",
       "      <th>18</th>\n",
       "      <td>SVC - poly - degree-4</td>\n",
       "      <td>SVC(degree=4, kernel='poly', random_state=247)</td>\n",
       "      <td>0.903842</td>\n",
       "      <td>125.909885</td>\n",
       "    </tr>\n",
       "    <tr>\n",
       "      <th>14</th>\n",
       "      <td>SVC - rbf</td>\n",
       "      <td>SVC(random_state=247)</td>\n",
       "      <td>0.902378</td>\n",
       "      <td>126.536672</td>\n",
       "    </tr>\n",
       "    <tr>\n",
       "      <th>4</th>\n",
       "      <td>SVC</td>\n",
       "      <td>SVC(random_state=247)</td>\n",
       "      <td>0.902378</td>\n",
       "      <td>128.901274</td>\n",
       "    </tr>\n",
       "    <tr>\n",
       "      <th>16</th>\n",
       "      <td>SVC - poly - degree-2</td>\n",
       "      <td>SVC(degree=2, kernel='poly', random_state=247)</td>\n",
       "      <td>0.900928</td>\n",
       "      <td>78.224556</td>\n",
       "    </tr>\n",
       "  </tbody>\n",
       "</table>\n",
       "</div>"
      ],
      "text/plain": [
       "                     Name                                           Model  \\\n",
       "22        SVC - rbf - C-5                      SVC(C=5, random_state=247)   \n",
       "23        SVC - rbf - C-6                      SVC(C=6, random_state=247)   \n",
       "21        SVC - rbf - C-4                      SVC(C=4, random_state=247)   \n",
       "20        SVC - rbf - C-3                      SVC(C=3, random_state=247)   \n",
       "17  SVC - poly - degree-3            SVC(kernel='poly', random_state=247)   \n",
       "13             SVC - poly            SVC(kernel='poly', random_state=247)   \n",
       "18  SVC - poly - degree-4  SVC(degree=4, kernel='poly', random_state=247)   \n",
       "14              SVC - rbf                           SVC(random_state=247)   \n",
       "4                     SVC                           SVC(random_state=247)   \n",
       "16  SVC - poly - degree-2  SVC(degree=2, kernel='poly', random_state=247)   \n",
       "\n",
       "       Score        Time  \n",
       "22  0.913329  121.656884  \n",
       "23  0.913245  121.553612  \n",
       "21  0.913160  121.873202  \n",
       "20  0.912330  120.959941  \n",
       "17  0.907375   96.189786  \n",
       "13  0.907375   97.556636  \n",
       "18  0.903842  125.909885  \n",
       "14  0.902378  126.536672  \n",
       "4   0.902378  128.901274  \n",
       "16  0.900928   78.224556  "
      ]
     },
     "execution_count": 23,
     "metadata": {},
     "output_type": "execute_result"
    }
   ],
   "source": [
    "df_results = pd.DataFrame(results, columns=('Name', 'Model', 'Score', 'Time')).sort_values(by=['Score', 'Time'], ascending=[False, True])\n",
    "df_results[df_results.Score>=pr]"
   ]
  },
  {
   "cell_type": "markdown",
   "id": "90fa1742",
   "metadata": {
    "id": "90fa1742"
   },
   "source": [
    "Проведем поиск лучших параметров по лучшим моделям SVM с помощью поиска по сетке"
   ]
  },
  {
   "cell_type": "code",
   "execution_count": null,
   "id": "7ade55fc",
   "metadata": {
    "id": "7ade55fc"
   },
   "outputs": [],
   "source": [
    "params_svc = {'C': np.arange(0.5, 10.5, 0.5),   \n",
    "              'kernel': ['rbf', 'poly'], \n",
    "              'degree': np.arange(2, 6, 0.5),\n",
    "              'decision_function_shape': ('ovo', 'ovr'),\n",
    "              'gamma': ['scale'],\n",
    "              'cache_size': [1000],\n",
    "              'shrinking': [False, True],\n",
    "              'class_weight': ['balanced', None],\n",
    "              'random_state': [rnd, 32]}"
   ]
  },
  {
   "cell_type": "code",
   "execution_count": null,
   "id": "1d5c6b19",
   "metadata": {
    "id": "1d5c6b19",
    "outputId": "6d9a0e9b-8af0-4145-b761-b11cef362dcf"
   },
   "outputs": [
    {
     "name": "stdout",
     "output_type": "stream",
     "text": [
      "['HalvingRandomSearchCV - SVC(C=5, random_state=247)', HalvingRandomSearchCV(cv=4, estimator=SVC(C=5, random_state=247), n_jobs=-1,\n",
      "                      param_distributions={'C': array([ 0.5,  1. ,  1.5,  2. ,  2.5,  3. ,  3.5,  4. ,  4.5,  5. ,  5.5,\n",
      "        6. ,  6.5,  7. ,  7.5,  8. ,  8.5,  9. ,  9.5, 10. ]),\n",
      "                                           'cache_size': [1000],\n",
      "                                           'class_weight': ['balanced', None],\n",
      "                                           'decision_function_shape': ('ovo',\n",
      "                                                                       'ovr'),\n",
      "                                           'degree': array([2. , 2.5, 3. , 3.5, 4. , 4.5, 5. , 5.5]),\n",
      "                                           'gamma': ['scale'],\n",
      "                                           'kernel': ['rbf', 'poly'],\n",
      "                                           'random_state': [247, 32],\n",
      "                                           'shrinking': [False, True]},\n",
      "                      random_state=247, scoring='accuracy'), 0.925, 912.3417007923126]\n"
     ]
    }
   ],
   "source": [
    "start_time = time.time()\n",
    "grid_svc = HalvingRandomSearchCV(df_results.iloc[0].Model, params_svc, cv=4, factor=3, verbose=0, scoring='accuracy', random_state=rnd, n_jobs=-1).fit(X2, y)\n",
    "svc_gs = SVC(**grid_svc.best_params_).fit(X_train, y_train)\n",
    "acc = metrics.accuracy_score(svc_gs.predict(X_test), y_test)\n",
    "results.append([f'HalvingRandomSearchCV - {df_results.iloc[0].Model}', grid_svc, acc, time.time() - start_time]) #time.time() - start_time\n",
    "print(results[-1])"
   ]
  },
  {
   "cell_type": "markdown",
   "id": "f4bcb8d4",
   "metadata": {
    "id": "f4bcb8d4"
   },
   "source": [
    "Результат несколько улучшился. Посмотрим на наилучшие параметры модели:"
   ]
  },
  {
   "cell_type": "code",
   "execution_count": null,
   "id": "c06efde6",
   "metadata": {
    "id": "c06efde6",
    "outputId": "94b9b4a7-a722-47fd-b52f-267fe40d3ef4"
   },
   "outputs": [
    {
     "name": "stdout",
     "output_type": "stream",
     "text": [
      "{'shrinking': False, 'random_state': 247, 'kernel': 'rbf', 'gamma': 'scale', 'degree': 5.5, 'decision_function_shape': 'ovo', 'class_weight': None, 'cache_size': 1000, 'C': 6.5}\n"
     ]
    }
   ],
   "source": [
    "print(grid_svc.best_params_)"
   ]
  },
  {
   "cell_type": "markdown",
   "id": "0c663ee6",
   "metadata": {
    "id": "0c663ee6"
   },
   "source": [
    "Построим голосующий классификатор"
   ]
  },
  {
   "cell_type": "code",
   "execution_count": null,
   "id": "477f5fc8",
   "metadata": {
    "id": "477f5fc8",
    "outputId": "ca820c30-2537-43ae-e88f-4c16736c7403"
   },
   "outputs": [
    {
     "data": {
      "text/plain": [
       "([('SVC', SVC(random_state=247)),\n",
       "  ('SVC - poly', SVC(kernel='poly', random_state=247)),\n",
       "  ('SVC - rbf', SVC(random_state=247)),\n",
       "  ('SVC - poly - degree-2', SVC(degree=2, kernel='poly', random_state=247)),\n",
       "  ('SVC - poly - degree-3', SVC(kernel='poly', random_state=247)),\n",
       "  ('SVC - poly - degree-4', SVC(degree=4, kernel='poly', random_state=247)),\n",
       "  ('SVC - rbf - C-3', SVC(C=3, random_state=247)),\n",
       "  ('SVC - rbf - C-4', SVC(C=4, random_state=247)),\n",
       "  ('SVC - rbf - C-5', SVC(C=5, random_state=247)),\n",
       "  ('SVC - rbf - C-6', SVC(C=6, random_state=247))],\n",
       " [0.2, 0.7, 0.2, 0.1, 0.7, 0.4, 1.2, 1.3, 1.3, 1.3])"
      ]
     },
     "execution_count": 31,
     "metadata": {},
     "output_type": "execute_result"
    }
   ],
   "source": [
    "estimators, weights = list(), list()\n",
    "for i in range(len(results)):\n",
    "    if results[i][2]>pr and (results[i][0][:21]!='HalvingRandomSearchCV'):\n",
    "        estimators.append((results[i][0], results[i][1]))\n",
    "        weights.append(round((results[i][2] - pr)*100, 1))\n",
    "estimators, weights"
   ]
  },
  {
   "cell_type": "code",
   "execution_count": null,
   "id": "763b7057",
   "metadata": {
    "id": "763b7057",
    "outputId": "80340f5e-85ce-42c7-ec6d-f3efaee9075e"
   },
   "outputs": [
    {
     "name": "stdout",
     "output_type": "stream",
     "text": [
      "{'hard': [('SVC', SVC(random_state=247)), ('SVC - poly', SVC(kernel='poly', random_state=247)), ('SVC - rbf', SVC(random_state=247)), ('SVC - poly - degree-2', SVC(degree=2, kernel='poly', random_state=247)), ('SVC - poly - degree-3', SVC(kernel='poly', random_state=247)), ('SVC - poly - degree-4', SVC(degree=4, kernel='poly', random_state=247)), ('SVC - rbf - C-3', SVC(C=3, random_state=247)), ('SVC - rbf - C-4', SVC(C=4, random_state=247)), ('SVC - rbf - C-5', SVC(C=5, random_state=247)), ('SVC - rbf - C-6', SVC(C=6, random_state=247))], 'soft': [('SVC', SVC(probability=True, random_state=247)), ('SVC - poly', SVC(kernel='poly', probability=True, random_state=247)), ('SVC - rbf', SVC(probability=True, random_state=247)), ('SVC - poly - degree-2', SVC(degree=2, kernel='poly', probability=True, random_state=247)), ('SVC - poly - degree-3', SVC(kernel='poly', probability=True, random_state=247)), ('SVC - poly - degree-4', SVC(degree=4, kernel='poly', probability=True, random_state=247)), ('SVC - rbf - C-3', SVC(C=3, probability=True, random_state=247)), ('SVC - rbf - C-4', SVC(C=4, probability=True, random_state=247)), ('SVC - rbf - C-5', SVC(C=5, probability=True, random_state=247)), ('SVC - rbf - C-6', SVC(C=6, probability=True, random_state=247))]}\n"
     ]
    }
   ],
   "source": [
    "est = copy.deepcopy(estimators)\n",
    "estimators = {'hard': copy.deepcopy(estimators)}\n",
    "for i in range(len(est)):\n",
    "    est[i][1].set_params(**{'probability': True})\n",
    "estimators['soft'] = est\n",
    "print(estimators)"
   ]
  },
  {
   "cell_type": "code",
   "execution_count": null,
   "id": "78afd8d7",
   "metadata": {
    "id": "78afd8d7",
    "outputId": "bb9b647c-4610-4849-92fd-c02102eba35c"
   },
   "outputs": [
    {
     "name": "stdout",
     "output_type": "stream",
     "text": [
      "['VotingClassifier - hard', VotingClassifier(estimators=[('SVC', SVC(random_state=247)),\n",
      "                             ('SVC - poly',\n",
      "                              SVC(kernel='poly', random_state=247)),\n",
      "                             ('SVC - rbf', SVC(random_state=247)),\n",
      "                             ('SVC - poly - degree-2',\n",
      "                              SVC(degree=2, kernel='poly', random_state=247)),\n",
      "                             ('SVC - poly - degree-3',\n",
      "                              SVC(kernel='poly', random_state=247)),\n",
      "                             ('SVC - poly - degree-4',\n",
      "                              SVC(degree=4, kernel='poly', random_state=247)),\n",
      "                             ('SVC - rbf - C-3', SVC(C=3, random_state=247)),\n",
      "                             ('SVC - rbf - C-4', SVC(C=4, random_state=247)),\n",
      "                             ('SVC - rbf - C-5', SVC(C=5, random_state=247)),\n",
      "                             ('SVC - rbf - C-6', SVC(C=6, random_state=247))],\n",
      "                 n_jobs=-1,\n",
      "                 weights=[0.2, 0.7, 0.2, 0.1, 0.7, 0.4, 1.2, 1.3, 1.3, 1.3]), 0.9254504504504505, 818.8725202083588]\n",
      "['VotingClassifier - soft', VotingClassifier(estimators=[('SVC', SVC(probability=True, random_state=247)),\n",
      "                             ('SVC - poly',\n",
      "                              SVC(kernel='poly', probability=True,\n",
      "                                  random_state=247)),\n",
      "                             ('SVC - rbf',\n",
      "                              SVC(probability=True, random_state=247)),\n",
      "                             ('SVC - poly - degree-2',\n",
      "                              SVC(degree=2, kernel='poly', probability=True,\n",
      "                                  random_state=247)),\n",
      "                             ('SVC - poly - degree-3',\n",
      "                              SVC(kernel='poly', probability=True,\n",
      "                                  random_state=247)...\n",
      "                              SVC(degree=4, kernel='poly', probability=True,\n",
      "                                  random_state=247)),\n",
      "                             ('SVC - rbf - C-3',\n",
      "                              SVC(C=3, probability=True, random_state=247)),\n",
      "                             ('SVC - rbf - C-4',\n",
      "                              SVC(C=4, probability=True, random_state=247)),\n",
      "                             ('SVC - rbf - C-5',\n",
      "                              SVC(C=5, probability=True, random_state=247)),\n",
      "                             ('SVC - rbf - C-6',\n",
      "                              SVC(C=6, probability=True, random_state=247))],\n",
      "                 n_jobs=-1, voting='soft',\n",
      "                 weights=[0.2, 0.7, 0.2, 0.1, 0.7, 0.4, 1.2, 1.3, 1.3, 1.3]), 0.9272522522522523, 2067.4141931533813]\n"
     ]
    }
   ],
   "source": [
    "for type in ['hard', 'soft']:\n",
    "    start_time = time.time()\n",
    "    voting_clf = VotingClassifier(estimators=estimators[type], weights=weights, voting=type, n_jobs=-1)\n",
    "    voting_clf.fit(X_train, y_train)\n",
    "    acc = metrics.accuracy_score(y_test, voting_clf.predict(X_test))\n",
    "    results.append([f'VotingClassifier - {type}', voting_clf, acc, time.time() - start_time])\n",
    "    print(results[-1])"
   ]
  },
  {
   "cell_type": "markdown",
   "id": "06bda6c4",
   "metadata": {
    "id": "06bda6c4"
   },
   "source": [
    "Посмотрим лучшие результаты обучения моделей и сохраним результаты в файл"
   ]
  },
  {
   "cell_type": "code",
   "execution_count": null,
   "id": "8f153194",
   "metadata": {
    "id": "8f153194",
    "outputId": "302ca111-ac45-415d-a004-b0c87b617815"
   },
   "outputs": [
    {
     "data": {
      "text/html": [
       "<div>\n",
       "<style scoped>\n",
       "    .dataframe tbody tr th:only-of-type {\n",
       "        vertical-align: middle;\n",
       "    }\n",
       "\n",
       "    .dataframe tbody tr th {\n",
       "        vertical-align: top;\n",
       "    }\n",
       "\n",
       "    .dataframe thead th {\n",
       "        text-align: right;\n",
       "    }\n",
       "</style>\n",
       "<table border=\"1\" class=\"dataframe\">\n",
       "  <thead>\n",
       "    <tr style=\"text-align: right;\">\n",
       "      <th></th>\n",
       "      <th>Name</th>\n",
       "      <th>Model</th>\n",
       "      <th>Score</th>\n",
       "      <th>Time</th>\n",
       "    </tr>\n",
       "  </thead>\n",
       "  <tbody>\n",
       "    <tr>\n",
       "      <th>26</th>\n",
       "      <td>VotingClassifier - soft</td>\n",
       "      <td>VotingClassifier(estimators=[('SVC', SVC(proba...</td>\n",
       "      <td>0.927252</td>\n",
       "      <td>2067.414193</td>\n",
       "    </tr>\n",
       "    <tr>\n",
       "      <th>25</th>\n",
       "      <td>VotingClassifier - hard</td>\n",
       "      <td>VotingClassifier(estimators=[('SVC', SVC(rando...</td>\n",
       "      <td>0.925450</td>\n",
       "      <td>818.872520</td>\n",
       "    </tr>\n",
       "    <tr>\n",
       "      <th>24</th>\n",
       "      <td>HalvingRandomSearchCV - SVC(C=5, random_state=...</td>\n",
       "      <td>HalvingRandomSearchCV(cv=4, estimator=SVC(C=5,...</td>\n",
       "      <td>0.925000</td>\n",
       "      <td>912.341701</td>\n",
       "    </tr>\n",
       "    <tr>\n",
       "      <th>22</th>\n",
       "      <td>SVC - rbf - C-5</td>\n",
       "      <td>SVC(C=5, random_state=247)</td>\n",
       "      <td>0.913329</td>\n",
       "      <td>121.656884</td>\n",
       "    </tr>\n",
       "    <tr>\n",
       "      <th>23</th>\n",
       "      <td>SVC - rbf - C-6</td>\n",
       "      <td>SVC(C=6, random_state=247)</td>\n",
       "      <td>0.913245</td>\n",
       "      <td>121.553612</td>\n",
       "    </tr>\n",
       "    <tr>\n",
       "      <th>21</th>\n",
       "      <td>SVC - rbf - C-4</td>\n",
       "      <td>SVC(C=4, random_state=247)</td>\n",
       "      <td>0.913160</td>\n",
       "      <td>121.873202</td>\n",
       "    </tr>\n",
       "    <tr>\n",
       "      <th>20</th>\n",
       "      <td>SVC - rbf - C-3</td>\n",
       "      <td>SVC(C=3, random_state=247)</td>\n",
       "      <td>0.912330</td>\n",
       "      <td>120.959941</td>\n",
       "    </tr>\n",
       "    <tr>\n",
       "      <th>17</th>\n",
       "      <td>SVC - poly - degree-3</td>\n",
       "      <td>SVC(kernel='poly', random_state=247)</td>\n",
       "      <td>0.907375</td>\n",
       "      <td>96.189786</td>\n",
       "    </tr>\n",
       "    <tr>\n",
       "      <th>13</th>\n",
       "      <td>SVC - poly</td>\n",
       "      <td>SVC(kernel='poly', random_state=247)</td>\n",
       "      <td>0.907375</td>\n",
       "      <td>97.556636</td>\n",
       "    </tr>\n",
       "    <tr>\n",
       "      <th>18</th>\n",
       "      <td>SVC - poly - degree-4</td>\n",
       "      <td>SVC(degree=4, kernel='poly', random_state=247)</td>\n",
       "      <td>0.903842</td>\n",
       "      <td>125.909885</td>\n",
       "    </tr>\n",
       "    <tr>\n",
       "      <th>14</th>\n",
       "      <td>SVC - rbf</td>\n",
       "      <td>SVC(random_state=247)</td>\n",
       "      <td>0.902378</td>\n",
       "      <td>126.536672</td>\n",
       "    </tr>\n",
       "    <tr>\n",
       "      <th>4</th>\n",
       "      <td>SVC</td>\n",
       "      <td>SVC(random_state=247)</td>\n",
       "      <td>0.902378</td>\n",
       "      <td>128.901274</td>\n",
       "    </tr>\n",
       "    <tr>\n",
       "      <th>16</th>\n",
       "      <td>SVC - poly - degree-2</td>\n",
       "      <td>SVC(degree=2, kernel='poly', random_state=247)</td>\n",
       "      <td>0.900928</td>\n",
       "      <td>78.224556</td>\n",
       "    </tr>\n",
       "  </tbody>\n",
       "</table>\n",
       "</div>"
      ],
      "text/plain": [
       "                                                 Name  \\\n",
       "26                            VotingClassifier - soft   \n",
       "25                            VotingClassifier - hard   \n",
       "24  HalvingRandomSearchCV - SVC(C=5, random_state=...   \n",
       "22                                    SVC - rbf - C-5   \n",
       "23                                    SVC - rbf - C-6   \n",
       "21                                    SVC - rbf - C-4   \n",
       "20                                    SVC - rbf - C-3   \n",
       "17                              SVC - poly - degree-3   \n",
       "13                                         SVC - poly   \n",
       "18                              SVC - poly - degree-4   \n",
       "14                                          SVC - rbf   \n",
       "4                                                 SVC   \n",
       "16                              SVC - poly - degree-2   \n",
       "\n",
       "                                                Model     Score         Time  \n",
       "26  VotingClassifier(estimators=[('SVC', SVC(proba...  0.927252  2067.414193  \n",
       "25  VotingClassifier(estimators=[('SVC', SVC(rando...  0.925450   818.872520  \n",
       "24  HalvingRandomSearchCV(cv=4, estimator=SVC(C=5,...  0.925000   912.341701  \n",
       "22                         SVC(C=5, random_state=247)  0.913329   121.656884  \n",
       "23                         SVC(C=6, random_state=247)  0.913245   121.553612  \n",
       "21                         SVC(C=4, random_state=247)  0.913160   121.873202  \n",
       "20                         SVC(C=3, random_state=247)  0.912330   120.959941  \n",
       "17               SVC(kernel='poly', random_state=247)  0.907375    96.189786  \n",
       "13               SVC(kernel='poly', random_state=247)  0.907375    97.556636  \n",
       "18     SVC(degree=4, kernel='poly', random_state=247)  0.903842   125.909885  \n",
       "14                              SVC(random_state=247)  0.902378   126.536672  \n",
       "4                               SVC(random_state=247)  0.902378   128.901274  \n",
       "16     SVC(degree=2, kernel='poly', random_state=247)  0.900928    78.224556  "
      ]
     },
     "execution_count": 34,
     "metadata": {},
     "output_type": "execute_result"
    }
   ],
   "source": [
    "df_results = pd.DataFrame(results, columns=('Name', 'Model', 'Score', 'Time')).sort_values(by=['Score', 'Time'], ascending=[False, True])\n",
    "df_results.to_csv('model-results.csv')\n",
    "df_results[df_results.Score>=0.9]"
   ]
  },
  {
   "cell_type": "markdown",
   "id": "bed74e23",
   "metadata": {
    "id": "bed74e23"
   },
   "source": [
    "Сделаем предсказание на лучшей модели - голосующем классификаторе с мягким голосованием, для чего повторно в начале обучим ее на полной выборке, и сохраним итоговый результат в файл (который и направим на конкурс)"
   ]
  },
  {
   "cell_type": "code",
   "execution_count": null,
   "id": "fe6a85ab",
   "metadata": {
    "id": "fe6a85ab"
   },
   "outputs": [],
   "source": [
    "model = df_results.iloc[0].Model\n",
    "model = model.fit(X2, y)"
   ]
  },
  {
   "cell_type": "code",
   "execution_count": null,
   "id": "d5977de3",
   "metadata": {
    "id": "d5977de3"
   },
   "outputs": [],
   "source": [
    "def save_result(model, file_name):\n",
    "    X_res = pd.read_csv(\"emnist-letters-test-sh.csv\", header=None).fillna(0).values\n",
    "    labels = kmeans.predict(X_res)\n",
    "    X_res = np.append(X_res, labels[:, np.newaxis], axis=1)\n",
    "    X_res = pca.transform(X_res)\n",
    "    y_pred = model.predict(X_res)\n",
    "    df = pd.DataFrame(y_pred, columns=[\"Category\"])\n",
    "    df.index += 1\n",
    "    pd.DataFrame(df).to_csv(file_name, index_label=\"Id\")\n",
    "    print(pd.read_csv(file_name)[:10])"
   ]
  },
  {
   "cell_type": "code",
   "execution_count": null,
   "id": "6502278c",
   "metadata": {
    "id": "6502278c",
    "outputId": "b921c284-7e7c-4fbc-cc9d-4d5fc4bf3ef2"
   },
   "outputs": [
    {
     "name": "stdout",
     "output_type": "stream",
     "text": [
      "   Id  Category\n",
      "0   1        12\n",
      "1   2        14\n",
      "2   3        10\n",
      "3   4        15\n",
      "4   5        12\n",
      "5   6         1\n",
      "6   7         1\n",
      "7   8        18\n",
      "8   9         3\n",
      "9  10        17\n"
     ]
    }
   ],
   "source": [
    "save_result(model, 'prediction.csv')"
   ]
  },
  {
   "cell_type": "markdown",
   "id": "75efec53",
   "metadata": {
    "id": "75efec53"
   },
   "source": [
    "Таким образом, мы осуществили следующий порядок действий:\n",
    "- прочитали данные;\n",
    "- применили KMeand для кластеризации данных и добавили в данные новый признак - получившийся класс;\n",
    "- с помощью KernelPCA с косинусным ядром снизили размерность;\n",
    "- обучили набор моделей;\n",
    "- на основании лучших моделей построили голосующий классификатор;\n",
    "- к лучшему типу модели применили поиск параметров по сетке;\n",
    "- прочитали тестовые данные;\n",
    "- на основании полученных параметров сделали кластеризацию искомых данных и сохранили их в файл."
   ]
  }
 ],
 "metadata": {
  "colab": {
   "collapsed_sections": [],
   "name": "Отчет по участию на конкурсе Каггл.ipynb",
   "provenance": []
  },
  "kernelspec": {
   "display_name": "Python 3 (ipykernel)",
   "language": "python",
   "name": "python3"
  },
  "language_info": {
   "codemirror_mode": {
    "name": "ipython",
    "version": 3
   },
   "file_extension": ".py",
   "mimetype": "text/x-python",
   "name": "python",
   "nbconvert_exporter": "python",
   "pygments_lexer": "ipython3",
   "version": "3.9.13"
  }
 },
 "nbformat": 4,
 "nbformat_minor": 5
}
