{
 "cells": [
  {
   "cell_type": "markdown",
   "metadata": {},
   "source": [
    "https://www.kaggle.com/c/cian-datafest-2019"
   ]
  },
  {
   "cell_type": "markdown",
   "metadata": {},
   "source": [
    "Импортируем библиотеки"
   ]
  },
  {
   "cell_type": "code",
   "execution_count": 1,
   "metadata": {},
   "outputs": [],
   "source": [
    "from glob import glob\n",
    "from scipy import stats\n",
    "import pandas as pd\n",
    "\n",
    "import time\n",
    "from tqdm import tqdm\n",
    "from PIL import Image\n",
    "import numpy as np"
   ]
  },
  {
   "cell_type": "markdown",
   "metadata": {},
   "source": [
    "Загружаем данные"
   ]
  },
  {
   "cell_type": "code",
   "execution_count": 2,
   "metadata": {},
   "outputs": [
    {
     "data": {
      "text/plain": [
       "(['Content/datafest\\\\outdoor\\\\image_999.jpg',\n",
       "  'Content/datafest\\\\outdoor\\\\image_9990.jpg',\n",
       "  'Content/datafest\\\\outdoor\\\\image_9992.jpg',\n",
       "  'Content/datafest\\\\outdoor\\\\image_9994.jpg',\n",
       "  'Content/datafest\\\\outdoor\\\\image_9995.jpg'],\n",
       " 82982)"
      ]
     },
     "execution_count": 2,
     "metadata": {},
     "output_type": "execute_result"
    }
   ],
   "source": [
    "train_images = glob ('Content/datafest/*/*.jpg')\n",
    "test_images = glob('Content/test/*.jpg')\n",
    "train_images[-5:], len(train_images)"
   ]
  },
  {
   "cell_type": "markdown",
   "metadata": {},
   "source": [
    "Построим фичи с помощью основных статистик"
   ]
  },
  {
   "cell_type": "code",
   "execution_count": 3,
   "metadata": {},
   "outputs": [],
   "source": [
    "def image_to_features(image):\n",
    "    features = []\n",
    "    np_image = np.array(image)\n",
    "    split1 = np.array_split(np_image, 7, axis = 0)\n",
    "    split2 = np.array_split(np_image, 7, axis = 1)\n",
    "    for im_part in [np_image] + split1[:2] + split1[-2:] + split2[:2] + split2[-2:]:\n",
    "        for i in range(3):\n",
    "            s = stats.describe(im_part[:,:,i], axis = None)\n",
    "            features += [s.mean, s.variance, s.minmax[0], s.minmax[1], s.skewness, s.kurtosis]\n",
    "    return features"
   ]
  },
  {
   "cell_type": "markdown",
   "metadata": {},
   "source": [
    "Преобразуем картинки в фичи"
   ]
  },
  {
   "cell_type": "code",
   "execution_count": 4,
   "metadata": {},
   "outputs": [
    {
     "name": "stderr",
     "output_type": "stream",
     "text": [
      "100%|████████████████████████████████████████████████████████████████████████████| 82982/82982 [15:36<00:00, 88.59it/s]"
     ]
    },
    {
     "name": "stdout",
     "output_type": "stream",
     "text": [
      "Wall time: 15min 36s\n"
     ]
    },
    {
     "name": "stderr",
     "output_type": "stream",
     "text": [
      "\n"
     ]
    }
   ],
   "source": [
    "%%time\n",
    "door = {\"indoor\": list(), \"outdoor\": list()}\n",
    "for i, path in tqdm(enumerate(train_images), total=len(train_images)):\n",
    "#     if i%50 != 0: continue\n",
    "    image = Image.open(path)\n",
    "    image_class = path.split('/')[-1].split('\\\\')[1]\n",
    "    door[image_class].append(image_to_features(image))"
   ]
  },
  {
   "cell_type": "code",
   "execution_count": 5,
   "metadata": {},
   "outputs": [
    {
     "name": "stderr",
     "output_type": "stream",
     "text": [
      "100%|████████████████████████████████████████████████████████████████████████████| 27660/27660 [04:54<00:00, 93.85it/s]\n"
     ]
    }
   ],
   "source": [
    "test = []\n",
    "test_ids = []\n",
    "for i, path in tqdm(enumerate(test_images), total=len(test_images), position=0, leave=True):\n",
    "#     if i%60 != 0: continue\n",
    "    image = Image.open(path)\n",
    "    imageid = int(path.split('/')[-1].split('\\\\')[-1].replace('.jpg',''))\n",
    "    test.append(image_to_features(image))\n",
    "    test_ids.append(imageid)"
   ]
  },
  {
   "cell_type": "markdown",
   "metadata": {},
   "source": [
    "Построим саму модель"
   ]
  },
  {
   "cell_type": "code",
   "execution_count": 12,
   "metadata": {},
   "outputs": [
    {
     "name": "stderr",
     "output_type": "stream",
     "text": [
      "100%|██████████████████████████████████████████████████████████████████████████| 150000/150000 [37:08<00:00, 67.30it/s]\n"
     ]
    }
   ],
   "source": [
    "X=np.array(door[\"indoor\"] + door[\"outdoor\"])\n",
    "y=np.array([0 for i in range(len(door[\"indoor\"]))]+[1 for i in range(len(door[\"outdoor\"]))])\n",
    "\n",
    "indices = np.random.permutation(X.shape[0])\n",
    "\n",
    "X_train = X\n",
    "Y_train = y\n",
    "x_final = X_train / np.linalg.norm(X_train, axis = 0)\n",
    "y = Y_train\n",
    "\n",
    "alpha=100\n",
    "iterations = 150000\n",
    "n = x_final.shape[0]\n",
    "x0 = np.ones((n, 1))\n",
    "beta = np.random.rand(1,x_final.shape[1])\n",
    "for i in tqdm(range(iterations)):\n",
    "    y_pred = np.dot(x_final,beta.T)\n",
    "    cost = np.sum((y_pred-y.reshape(n,1))**2)/n\n",
    "    diff = (y_pred-y.reshape(n,1))\n",
    "    derivative = 2*np.dot(diff.T,x_final)/n\n",
    "    beta = (beta)-alpha*(derivative)"
   ]
  },
  {
   "cell_type": "markdown",
   "metadata": {},
   "source": [
    "Применим построенную модель к тестовым данным"
   ]
  },
  {
   "cell_type": "code",
   "execution_count": 13,
   "metadata": {},
   "outputs": [],
   "source": [
    "X_test = np.array(test)\n",
    "test_predict = np.dot(X_test / np.linalg.norm(X_test, axis = 0), beta.T)\n",
    "test_predict = (test_predict-test_predict.min())/(test_predict.max()-test_predict.min())"
   ]
  },
  {
   "cell_type": "markdown",
   "metadata": {},
   "source": [
    "Сохраним результат"
   ]
  },
  {
   "cell_type": "code",
   "execution_count": 14,
   "metadata": {},
   "outputs": [],
   "source": [
    "data = pd.DataFrame({'image_number':test_ids}).join(pd.DataFrame(test_predict, columns = ['prob_outdoor'])).sort_values(by=\"image_number\")"
   ]
  },
  {
   "cell_type": "code",
   "execution_count": 15,
   "metadata": {},
   "outputs": [
    {
     "data": {
      "text/html": [
       "<div>\n",
       "<style scoped>\n",
       "    .dataframe tbody tr th:only-of-type {\n",
       "        vertical-align: middle;\n",
       "    }\n",
       "\n",
       "    .dataframe tbody tr th {\n",
       "        vertical-align: top;\n",
       "    }\n",
       "\n",
       "    .dataframe thead th {\n",
       "        text-align: right;\n",
       "    }\n",
       "</style>\n",
       "<table border=\"1\" class=\"dataframe\">\n",
       "  <thead>\n",
       "    <tr style=\"text-align: right;\">\n",
       "      <th></th>\n",
       "      <th>image_number</th>\n",
       "      <th>prob_outdoor</th>\n",
       "    </tr>\n",
       "  </thead>\n",
       "  <tbody>\n",
       "    <tr>\n",
       "      <th>0</th>\n",
       "      <td>0</td>\n",
       "      <td>0.287855</td>\n",
       "    </tr>\n",
       "    <tr>\n",
       "      <th>11021</th>\n",
       "      <td>4</td>\n",
       "      <td>0.408603</td>\n",
       "    </tr>\n",
       "    <tr>\n",
       "      <th>22186</th>\n",
       "      <td>7</td>\n",
       "      <td>0.586798</td>\n",
       "    </tr>\n",
       "    <tr>\n",
       "      <th>1445</th>\n",
       "      <td>14</td>\n",
       "      <td>0.505731</td>\n",
       "    </tr>\n",
       "    <tr>\n",
       "      <th>3605</th>\n",
       "      <td>20</td>\n",
       "      <td>0.496292</td>\n",
       "    </tr>\n",
       "    <tr>\n",
       "      <th>3961</th>\n",
       "      <td>21</td>\n",
       "      <td>0.402705</td>\n",
       "    </tr>\n",
       "    <tr>\n",
       "      <th>4707</th>\n",
       "      <td>23</td>\n",
       "      <td>0.517562</td>\n",
       "    </tr>\n",
       "    <tr>\n",
       "      <th>5091</th>\n",
       "      <td>24</td>\n",
       "      <td>0.541140</td>\n",
       "    </tr>\n",
       "    <tr>\n",
       "      <th>6595</th>\n",
       "      <td>28</td>\n",
       "      <td>0.640700</td>\n",
       "    </tr>\n",
       "    <tr>\n",
       "      <th>7347</th>\n",
       "      <td>30</td>\n",
       "      <td>0.664057</td>\n",
       "    </tr>\n",
       "  </tbody>\n",
       "</table>\n",
       "</div>"
      ],
      "text/plain": [
       "       image_number  prob_outdoor\n",
       "0                 0      0.287855\n",
       "11021             4      0.408603\n",
       "22186             7      0.586798\n",
       "1445             14      0.505731\n",
       "3605             20      0.496292\n",
       "3961             21      0.402705\n",
       "4707             23      0.517562\n",
       "5091             24      0.541140\n",
       "6595             28      0.640700\n",
       "7347             30      0.664057"
      ]
     },
     "execution_count": 15,
     "metadata": {},
     "output_type": "execute_result"
    }
   ],
   "source": [
    "data[:10]"
   ]
  },
  {
   "cell_type": "code",
   "execution_count": 16,
   "metadata": {},
   "outputs": [],
   "source": [
    "data.to_csv('submission.csv',index=False)"
   ]
  },
  {
   "cell_type": "code",
   "execution_count": 17,
   "metadata": {},
   "outputs": [
    {
     "data": {
      "text/html": [
       "<div>\n",
       "<style scoped>\n",
       "    .dataframe tbody tr th:only-of-type {\n",
       "        vertical-align: middle;\n",
       "    }\n",
       "\n",
       "    .dataframe tbody tr th {\n",
       "        vertical-align: top;\n",
       "    }\n",
       "\n",
       "    .dataframe thead th {\n",
       "        text-align: right;\n",
       "    }\n",
       "</style>\n",
       "<table border=\"1\" class=\"dataframe\">\n",
       "  <thead>\n",
       "    <tr style=\"text-align: right;\">\n",
       "      <th></th>\n",
       "      <th>image_number</th>\n",
       "      <th>prob_outdoor</th>\n",
       "    </tr>\n",
       "  </thead>\n",
       "  <tbody>\n",
       "    <tr>\n",
       "      <th>0</th>\n",
       "      <td>0</td>\n",
       "      <td>0.287855</td>\n",
       "    </tr>\n",
       "    <tr>\n",
       "      <th>1</th>\n",
       "      <td>4</td>\n",
       "      <td>0.408603</td>\n",
       "    </tr>\n",
       "    <tr>\n",
       "      <th>2</th>\n",
       "      <td>7</td>\n",
       "      <td>0.586798</td>\n",
       "    </tr>\n",
       "    <tr>\n",
       "      <th>3</th>\n",
       "      <td>14</td>\n",
       "      <td>0.505731</td>\n",
       "    </tr>\n",
       "    <tr>\n",
       "      <th>4</th>\n",
       "      <td>20</td>\n",
       "      <td>0.496292</td>\n",
       "    </tr>\n",
       "    <tr>\n",
       "      <th>...</th>\n",
       "      <td>...</td>\n",
       "      <td>...</td>\n",
       "    </tr>\n",
       "    <tr>\n",
       "      <th>27655</th>\n",
       "      <td>82972</td>\n",
       "      <td>0.507150</td>\n",
       "    </tr>\n",
       "    <tr>\n",
       "      <th>27656</th>\n",
       "      <td>82974</td>\n",
       "      <td>0.721959</td>\n",
       "    </tr>\n",
       "    <tr>\n",
       "      <th>27657</th>\n",
       "      <td>82975</td>\n",
       "      <td>0.405581</td>\n",
       "    </tr>\n",
       "    <tr>\n",
       "      <th>27658</th>\n",
       "      <td>82977</td>\n",
       "      <td>0.468373</td>\n",
       "    </tr>\n",
       "    <tr>\n",
       "      <th>27659</th>\n",
       "      <td>82979</td>\n",
       "      <td>0.708799</td>\n",
       "    </tr>\n",
       "  </tbody>\n",
       "</table>\n",
       "<p>27660 rows × 2 columns</p>\n",
       "</div>"
      ],
      "text/plain": [
       "       image_number  prob_outdoor\n",
       "0                 0      0.287855\n",
       "1                 4      0.408603\n",
       "2                 7      0.586798\n",
       "3                14      0.505731\n",
       "4                20      0.496292\n",
       "...             ...           ...\n",
       "27655         82972      0.507150\n",
       "27656         82974      0.721959\n",
       "27657         82975      0.405581\n",
       "27658         82977      0.468373\n",
       "27659         82979      0.708799\n",
       "\n",
       "[27660 rows x 2 columns]"
      ]
     },
     "execution_count": 17,
     "metadata": {},
     "output_type": "execute_result"
    }
   ],
   "source": [
    "pd.read_csv('submission.csv')"
   ]
  }
 ],
 "metadata": {
  "kernelspec": {
   "display_name": "Python 3",
   "language": "python",
   "name": "python3"
  },
  "language_info": {
   "codemirror_mode": {
    "name": "ipython",
    "version": 3
   },
   "file_extension": ".py",
   "mimetype": "text/x-python",
   "name": "python",
   "nbconvert_exporter": "python",
   "pygments_lexer": "ipython3",
   "version": "3.8.3"
  }
 },
 "nbformat": 4,
 "nbformat_minor": 1
}
